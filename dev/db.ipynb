{
 "cells": [
  {
   "cell_type": "code",
   "execution_count": null,
   "outputs": [],
   "source": [
    "import numpy as np\n",
    "import sqlite3\n",
    "from typing import Callable, Dict, List, Optional"
   ],
   "metadata": {
    "collapsed": false,
    "pycharm": {
     "name": "#%%\n"
    }
   }
  },
  {
   "cell_type": "code",
   "execution_count": null,
   "outputs": [],
   "source": [
    "class Lapin:\n",
    "\n",
    "    def __init__(\n",
    "        self,\n",
    "        id_: int,\n",
    "        name: str,\n",
    "        genome: List[str],\n",
    "        points: List[float],\n",
    "        user: str,\n",
    "        date: str\n",
    "    ):\n",
    "        self.id = id_\n",
    "        self.name = name\n",
    "        self.genome = genome\n",
    "        self.points = points\n",
    "        self.user = user\n",
    "        self.date = date\n",
    "\n",
    "    def __str__(self):\n",
    "        ret = f\"Lapin[id={self.id} name={self.name} user={self.user}]\"\n",
    "        return ret"
   ],
   "metadata": {
    "collapsed": false,
    "pycharm": {
     "name": "#%%\n"
    }
   }
  },
  {
   "cell_type": "code",
   "execution_count": null,
   "outputs": [],
   "source": [
    "dbname = \"lapin.db\""
   ],
   "metadata": {
    "collapsed": false,
    "pycharm": {
     "name": "#%%\n"
    }
   }
  },
  {
   "cell_type": "code",
   "execution_count": null,
   "outputs": [],
   "source": [
    "def create_table():\n",
    "    with sqlite3.connect(dbname) as conn:\n",
    "        cur = conn.cursor()\n",
    "        cur.execute(\" \\\n",
    "            CREATE TABLE if not exists lapin( \\\n",
    "            id INTEGER primary key, \\\n",
    "            name STRING, \\\n",
    "            genome STRING, \\\n",
    "            points STRING, \\\n",
    "            user INTEGER, \\\n",
    "            date TIMESTAMP DEFAULT (datetime(CURRENT_TIMESTAMP,'localtime')) \\\n",
    "            ) \\\n",
    "        \")\n",
    "        conn.commit()"
   ],
   "metadata": {
    "collapsed": false,
    "pycharm": {
     "name": "#%%\n"
    }
   }
  },
  {
   "cell_type": "code",
   "execution_count": null,
   "outputs": [],
   "source": [
    "def create_lapin(name: str, genome: List[str], points: List[float], user_id: int) -> Lapin:\n",
    "    lapin = store_lapin(name, genome, points, user_id)\n",
    "    return lapin"
   ],
   "metadata": {
    "collapsed": false,
    "pycharm": {
     "name": "#%%\n"
    }
   }
  },
  {
   "cell_type": "code",
   "execution_count": null,
   "outputs": [],
   "source": [
    "def store_lapin(name: str, genome: List[str], points: List[float], user_id: int) -> Lapin:\n",
    "    points = np.asarray(points) * 100\n",
    "    str_genome = \";\".join(genome)\n",
    "    str_points = \";\".join([str(p) for p in points.astype(int)])\n",
    "\n",
    "    query = f\"insert into lapin (name, genome, points, user) values ('{name}', '{str_genome}', '{str_points}', '{user_id}')\"\n",
    "    \n",
    "    with sqlite3.connect(dbname) as conn:\n",
    "        cur = conn.cursor()\n",
    "        cur.execute(query)\n",
    "        conn.commit()\n",
    "\n",
    "    lapins = load_lapin(name=name, user=user_id)\n",
    "    return lapins[0]"
   ],
   "metadata": {
    "collapsed": false,
    "pycharm": {
     "name": "#%%\n"
    }
   }
  },
  {
   "cell_type": "code",
   "execution_count": null,
   "outputs": [],
   "source": [
    "def load_lapin(\n",
    "    id_: Optional[int] = None,\n",
    "    name: Optional[str] = None,\n",
    "    user: Optional[str] = None,\n",
    ") -> List[Lapin]:\n",
    "    conditions = []\n",
    "    if id_ is not None:\n",
    "        conditions.append(f\"id = {id_}\")\n",
    "    if name is not None:\n",
    "        conditions.append(f\"name = '{name}'\")\n",
    "    if user is not None:\n",
    "        conditions.append(f\"user = {user}\")\n",
    "\n",
    "    query = \"select * from lapin\"\n",
    "    if len(conditions) > 0:\n",
    "        str_conditions = \" and \".join(conditions)\n",
    "        query = query + \" where \" + str_conditions\n",
    "\n",
    "    with sqlite3.connect(dbname) as conn:\n",
    "        cur = conn.cursor()\n",
    "        cur.execute(query)\n",
    "        lapins = [Lapin(*row) for row in cur]\n",
    "\n",
    "    return lapins"
   ],
   "metadata": {
    "collapsed": false,
    "pycharm": {
     "name": "#%%\n"
    }
   }
  },
  {
   "cell_type": "markdown",
   "source": [
    "## test code\n",
    "Run next 3 cells to prepare and test Lapin DB."
   ],
   "metadata": {
    "collapsed": false,
    "pycharm": {
     "name": "#%% md\n"
    }
   }
  },
  {
   "cell_type": "code",
   "execution_count": null,
   "outputs": [],
   "source": [
    "create_table()"
   ],
   "metadata": {
    "collapsed": false,
    "pycharm": {
     "name": "#%%\n"
    }
   }
  },
  {
   "cell_type": "code",
   "execution_count": null,
   "outputs": [],
   "source": [
    "lapin_data = [\n",
    "    (\"usagi\", [\"CX12\", \"CZ23\", \"X1\"], [1.23, 2.34, 3.45], 1),\n",
    "    (\"usausa\", [\"CX23\", \"CZ31\", \"X2\"], [4.23, 1.34, 2.45], 2),\n",
    "    (\"icchi\", [\"Z1\", \"CZ12\", \"X3\"], [0.23, 2.34, -2.45], 1)\n",
    "]\n",
    "\n",
    "for ldata in lapin_data:\n",
    "    create_lapin(*ldata)"
   ],
   "metadata": {
    "collapsed": false,
    "pycharm": {
     "name": "#%%\n"
    }
   }
  },
  {
   "cell_type": "code",
   "execution_count": null,
   "outputs": [],
   "source": [
    "load_lapin()"
   ],
   "metadata": {
    "collapsed": false,
    "pycharm": {
     "name": "#%%\n"
    }
   }
  },
  {
   "cell_type": "code",
   "execution_count": null,
   "metadata": {},
   "outputs": [],
   "source": [
    "dbname = \"lapin.db\""
   ]
  },
  {
   "cell_type": "code",
   "execution_count": 88,
   "metadata": {
    "collapsed": false,
    "jupyter": {
     "outputs_hidden": false
    },
    "pycharm": {
     "name": "#%%\n"
    }
   },
   "outputs": [],
   "source": [
    "def create_table():\n",
    "    with sqlite3.connect(dbname) as conn:\n",
    "        cur = conn.cursor()\n",
    "        cur.execute(\" \\\n",
    "            CREATE TABLE if not exists lapin( \\\n",
    "            id INTEGER primary key, \\\n",
    "            name STRING, \\\n",
    "            genome STRING, \\\n",
    "            points STRING, \\\n",
    "            user INTEGER, \\\n",
    "            date TIMESTAMP DEFAULT (datetime(CURRENT_TIMESTAMP,'localtime')) \\\n",
    "            ) \\\n",
    "        \")\n",
    "        conn.commit()"
   ]
  },
  {
   "cell_type": "code",
   "execution_count": 18,
   "metadata": {},
   "outputs": [],
   "source": [
    "cur = conn.cursor()\n",
    "cur.execute(\"INSERT INTO lapin (name, genome, points, user) values('usagi', 'X1;Y2;CZ31', '100;249;010', 1)\")\n",
    "conn.commit()"
   ]
  },
  {
   "cell_type": "code",
   "execution_count": 28,
   "metadata": {},
   "outputs": [
    {
     "name": "stdout",
     "output_type": "stream",
     "text": [
      "(1, 'usagi', 'X1;Y2;CZ31', '100;249;010', 1, '2023-08-31 22:03:18')\n",
      "(2, 'usausa', 'X1;Y2;CZ31', '123;234;345', 2, '2023-09-01 13:12:12')\n"
     ]
    }
   ],
   "source": [
    "cur = conn.cursor()\n",
    "cur.execute(\"select * from lapin\")\n",
    "for row in cur:\n",
    "    print(row)"
   ]
  },
  {
   "cell_type": "code",
   "execution_count": 91,
   "metadata": {},
   "outputs": [],
   "source": [
    "def create_lapin(name: str, genome: List[str], points: List[float], user_id: int) -> Lapin:\n",
    "    lapin = store_lapin(name, genome, points, user_id)\n",
    "    return lapin"
   ]
  },
  {
   "cell_type": "code",
   "execution_count": 92,
   "metadata": {},
   "outputs": [],
   "source": [
    "def store_lapin(name: str, genome: List[str], points: List[float], user_id: int) -> Lapin:\n",
    "    points = np.asarray(points) * 100\n",
    "    str_genome = \";\".join(genome)\n",
    "    str_points = \";\".join([str(p) for p in points.astype(int)])\n",
    "\n",
    "    query = f\"insert into lapin (name, genome, points, user) values ('{name}', '{str_genome}', '{str_points}', '{user_id}')\"\n",
    "    \n",
    "    with sqlite3.connect(dbname) as conn:\n",
    "        cur = conn.cursor()\n",
    "        cur.execute(query)\n",
    "        conn.commit()\n",
    "\n",
    "    lapins = load_lapin(name=name, user=user_id)\n",
    "    return lapins[0]"
   ]
  },
  {
   "cell_type": "code",
   "execution_count": 93,
   "metadata": {},
   "outputs": [],
   "source": [
    "def load_lapin(\n",
    "    id_: Optional[int] = None,\n",
    "    name: Optional[str] = None,\n",
    "    user: Optional[str] = None,\n",
    ") -> List[Lapin]:\n",
    "    conditions = []\n",
    "    if id_ is not None:\n",
    "        conditions.append(f\"id = {id_}\")\n",
    "    if name is not None:\n",
    "        conditions.append(f\"name = '{name}'\")\n",
    "    if user is not None:\n",
    "        conditions.append(f\"user = {user}\")\n",
    "\n",
    "    query = \"select * from lapin\"\n",
    "    if len(conditions) > 0:\n",
    "        str_conditions = \" and \".join(conditions)\n",
    "        query = query + \" where \" + str_conditions\n",
    "\n",
    "    with sqlite3.connect(dbname) as conn:\n",
    "        cur = conn.cursor()\n",
    "        cur.execute(query)\n",
    "        lapins = [Lapin(*row) for row in cur]\n",
    "\n",
    "    return lapins"
   ]
  },
  {
   "cell_type": "code",
   "execution_count": 97,
   "metadata": {},
   "outputs": [],
   "source": [
    "create_table()"
   ]
  },
  {
   "cell_type": "code",
   "execution_count": 99,
   "metadata": {},
   "outputs": [],
   "source": [
    "lapin_data = [\n",
    "    (\"usagi\", [\"CX12\", \"CZ23\", \"X1\"], [1.23, 2.34, 3.45], 1),\n",
    "    (\"usausa\", [\"CX23\", \"CZ31\", \"X2\"], [4.23, 1.34, 2.45], 2),\n",
    "    (\"icchi\", [\"Z1\", \"CZ12\", \"X3\"], [0.23, 2.34, -2.45], 1)\n",
    "]\n",
    "\n",
    "for ldata in lapin_data:\n",
    "    create_lapin(*ldata)"
   ]
  },
  {
   "cell_type": "code",
   "execution_count": 100,
   "metadata": {},
   "outputs": [
    {
     "data": {
      "text/plain": [
       "[<__main__.Lapin at 0x1094b7fa0>,\n",
       " <__main__.Lapin at 0x10968d570>,\n",
       " <__main__.Lapin at 0x10948df90>]"
      ]
     },
     "execution_count": 100,
     "metadata": {},
     "output_type": "execute_result"
    }
   ],
   "source": [
    "load_lapin()"
   ]
  },
  {
   "cell_type": "code",
   "execution_count": null,
   "metadata": {},
   "outputs": [],
   "source": []
  }
 ],
 "metadata": {
  "kernelspec": {
   "display_name": "Python 3 (ipykernel)",
   "language": "python",
   "name": "python3"
  },
  "language_info": {
   "codemirror_mode": {
    "name": "ipython",
    "version": 3
   },
   "file_extension": ".py",
   "mimetype": "text/x-python",
   "name": "python",
   "nbconvert_exporter": "python",
   "pygments_lexer": "ipython3",
   "version": "3.10.12"
  }
 },
 "nbformat": 4,
 "nbformat_minor": 4
}